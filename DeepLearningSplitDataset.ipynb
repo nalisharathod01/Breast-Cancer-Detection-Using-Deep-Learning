{
 "cells": [
  {
   "cell_type": "code",
   "execution_count": 23,
   "id": "conventional-trace",
   "metadata": {},
   "outputs": [
    {
     "name": "stdout",
     "output_type": "stream",
     "text": [
      "Total images:  5429\n",
      "Training:  4343\n",
      "Testing:  1086\n"
     ]
    }
   ],
   "source": [
    "import os\n",
    "\n",
    "import numpy as np\n",
    "\n",
    "import shutil\n",
    "\n",
    "rootdir= 'images' #path of the original folder\n",
    "\n",
    "classes = ['malignant']\n",
    "\n",
    "for i in classes:\n",
    "    os.makedirs(rootdir +'/train/' + i)\n",
    "    os.makedirs(rootdir +'/test/' + i)\n",
    "\n",
    "source = rootdir + '/' + i\n",
    "\n",
    "allFileNames = os.listdir(source)\n",
    "\n",
    "np.random.shuffle(allFileNames)\n",
    "\n",
    "test_ratio = 0.20\n",
    "\n",
    "train_FileNames, test_FileNames = np.split(np.array(allFileNames),\n",
    "                                                      [int(len(allFileNames)* (1 - test_ratio))])\n",
    "\n",
    "train_FileNames = [source+'/'+ name for name in train_FileNames.tolist()]\n",
    "test_FileNames = [source+'/' + name for name in test_FileNames.tolist()]\n",
    "\n",
    "\n",
    "print('Total images: ', len(allFileNames))\n",
    "print('Training: ', len(train_FileNames))\n",
    "print('Testing: ', len(test_FileNames))\n",
    "for name in train_FileNames:\n",
    "  shutil.copy(name, rootdir +'/train/' + i)\n",
    "\n",
    "for name in test_FileNames:\n",
    "  shutil.copy(name, rootdir +'/test/' + i)"
   ]
  },
  {
   "cell_type": "code",
   "execution_count": null,
   "id": "stable-blues",
   "metadata": {},
   "outputs": [],
   "source": [
    "import os\n",
    "\n",
    "import numpy as np\n",
    "\n",
    "import shutil\n",
    "\n",
    "rootdir= 'images' #path of the original folder\n",
    "\n",
    "classes = ['benign']\n",
    "\n",
    "for i in classes:\n",
    "    os.makedirs(rootdir +'/train/' + i)\n",
    "    os.makedirs(rootdir +'/test/' + i)\n",
    "\n",
    "source = rootdir + '/' + i\n",
    "\n",
    "allFileNames = os.listdir(source)\n",
    "\n",
    "np.random.shuffle(allFileNames)\n",
    "\n",
    "test_ratio = 0.20\n",
    "\n",
    "train_FileNames, test_FileNames = np.split(np.array(allFileNames),\n",
    "                                                      [int(len(allFileNames)* (1 - test_ratio))])\n",
    "\n",
    "train_FileNames = [source+'/'+ name for name in train_FileNames.tolist()]\n",
    "test_FileNames = [source+'/' + name for name in test_FileNames.tolist()]\n",
    "\n",
    "\n",
    "print('Total images: ', len(allFileNames))\n",
    "print('Training: ', len(train_FileNames))\n",
    "print('Testing: ', len(test_FileNames))\n",
    "for name in train_FileNames:\n",
    "  shutil.copy(name, rootdir +'/train/' + i)\n",
    "\n",
    "for name in test_FileNames:\n",
    "  shutil.copy(name, rootdir +'/test/' + i)"
   ]
  },
  {
   "cell_type": "code",
   "execution_count": null,
   "id": "civilian-outside",
   "metadata": {},
   "outputs": [],
   "source": []
  },
  {
   "cell_type": "code",
   "execution_count": null,
   "id": "incorporated-tracy",
   "metadata": {},
   "outputs": [],
   "source": []
  }
 ],
 "metadata": {
  "kernelspec": {
   "display_name": "Python 3",
   "language": "python",
   "name": "python3"
  }
 },
 "nbformat": 4,
 "nbformat_minor": 5
}
